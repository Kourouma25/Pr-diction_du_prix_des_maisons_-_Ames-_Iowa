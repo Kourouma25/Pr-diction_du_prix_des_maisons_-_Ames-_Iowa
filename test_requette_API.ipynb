{
 "cells": [
  {
   "cell_type": "code",
   "execution_count": 7,
   "metadata": {},
   "outputs": [
    {
     "name": "stdout",
     "output_type": "stream",
     "text": [
      "Réponse du serveur: {'prediction': [64430.03309523809]}\n"
     ]
    }
   ],
   "source": [
    "import pandas as pd\n",
    "import requests\n",
    "\n",
    "# Charger les données\n",
    "data = pd.read_csv('batiment_a_predire.csv')\n",
    "\n",
    "# Sélectionner les données à envoyer (par exemple, la première ligne)\n",
    "donne_predire = data.iloc[4:5, :].to_dict(orient='records')[0]\n",
    "\n",
    "# URL de votre service déployé sur Cloud Run\n",
    "url_base = \"https://modele-de-scoring.oa.r.appspot.com/\"\n",
    "\n",
    "# Envoi de la requête POST pour effectuer la prédiction\n",
    "response = requests.post(f\"{url_base}/predire\", json=donne_predire)\n",
    "\n",
    "# Affichage de la réponse du endpoint\n",
    "if response.status_code == 200:\n",
    "    print(\"Réponse du serveur:\", response.json())\n",
    "else:\n",
    "    print(\"Erreur:\", response.text)"
   ]
  }
 ],
 "metadata": {
  "kernelspec": {
   "display_name": "base",
   "language": "python",
   "name": "python3"
  },
  "language_info": {
   "codemirror_mode": {
    "name": "ipython",
    "version": 3
   },
   "file_extension": ".py",
   "mimetype": "text/x-python",
   "name": "python",
   "nbconvert_exporter": "python",
   "pygments_lexer": "ipython3",
   "version": "3.12.7"
  }
 },
 "nbformat": 4,
 "nbformat_minor": 2
}
